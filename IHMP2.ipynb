{
 "cells": [
  {
   "cell_type": "code",
   "execution_count": 1,
   "id": "f0461830-883a-4f49-b2bb-0403babeb164",
   "metadata": {},
   "outputs": [],
   "source": [
    "# import tensorflow as tf\n",
    "import warnings\n",
    "\n",
    "import numpy as np\n",
    "import pandas as pd\n",
    "import sklearn\n",
    "import sklearn.ensemble\n",
    "import sklearn.impute\n",
    "import sklearn.neighbors\n",
    "import sklearn.neural_network\n",
    "import sklearn.pipeline\n",
    "import sklearn.preprocessing\n",
    "import sklearn.svm\n",
    "import sklearn.tree\n",
    "\n",
    "warnings.filterwarnings(\"ignore\")\n",
    "\n",
    "rng = np.random.default_rng(seed=42)"
   ]
  },
  {
   "cell_type": "code",
   "execution_count": 2,
   "id": "36b92493-b466-4bde-82ba-92cf2a6947e3",
   "metadata": {},
   "outputs": [],
   "source": [
    "df = pd.read_csv(\"data01.csv\")\n",
    "df[[\"group\", \"outcome\"]] = df[[\"outcome\", \"group\"]]"
   ]
  },
  {
   "cell_type": "code",
   "execution_count": 3,
   "id": "aa57e3ef-3fd1-4b68-ad0a-bb8bb06b5280",
   "metadata": {},
   "outputs": [
    {
     "data": {
      "text/plain": [
       "Index(['group', 'ID', 'outcome', 'age', 'gendera', 'BMI', 'hypertensive',\n",
       "       'atrialfibrillation', 'CHD with no MI', 'diabetes', 'deficiencyanemias',\n",
       "       'depression', 'Hyperlipemia', 'Renal failure', 'COPD', 'heart rate',\n",
       "       'Systolic blood pressure', 'Diastolic blood pressure',\n",
       "       'Respiratory rate', 'temperature', 'SP O2', 'Urine output',\n",
       "       'hematocrit', 'RBC', 'MCH', 'MCHC', 'MCV', 'RDW', 'Leucocyte',\n",
       "       'Platelets', 'Neutrophils', 'Basophils', 'Lymphocyte', 'PT', 'INR',\n",
       "       'NT-proBNP', 'Creatine kinase', 'Creatinine', 'Urea nitrogen',\n",
       "       'glucose', 'Blood potassium', 'Blood sodium', 'Blood calcium',\n",
       "       'Chloride', 'Anion gap', 'Magnesium ion', 'PH', 'Bicarbonate',\n",
       "       'Lactic acid', 'PCO2', 'EF'],\n",
       "      dtype='object')"
      ]
     },
     "execution_count": 3,
     "metadata": {},
     "output_type": "execute_result"
    }
   ],
   "source": [
    "df.columns"
   ]
  },
  {
   "cell_type": "code",
   "execution_count": 4,
   "id": "babda9a8-d7a4-4423-90bd-b2b5ea7c1406",
   "metadata": {},
   "outputs": [],
   "source": [
    "data = df.drop(\"ID\", axis=1).values  \n",
    "data = np.delete(\n",
    "    data, np.where(np.isnan(data[:, 0]))[0], axis=0\n",
    ")  # del the data without label\n",
    "rng.shuffle(data, axis=0)\n",
    "train_x, train_y = (\n",
    "    data[: int(0.8 * data.shape[0]), 1:],\n",
    "    data[: int(0.8 * data.shape[0]), 0],\n",
    ")\n",
    "test_x, test_y = (\n",
    "    data[int(0.8 * data.shape[0]) :, 1:],\n",
    "    data[int(0.8 * data.shape[0]) :, 0],\n",
    ")"
   ]
  },
  {
   "cell_type": "code",
   "execution_count": 5,
   "id": "d6947bb9-110d-45ba-9e39-00af8238ac67",
   "metadata": {},
   "outputs": [
    {
     "name": "stdout",
     "output_type": "stream",
     "text": [
      "(940, 49) (236, 49)\n"
     ]
    }
   ],
   "source": [
    "print(train_x.shape, test_x.shape)"
   ]
  },
  {
   "cell_type": "code",
   "execution_count": 6,
   "id": "5df6a40c-d770-46ef-b366-7ee645c02343",
   "metadata": {},
   "outputs": [],
   "source": [
    "imputer1 = sklearn.impute.SimpleImputer(strategy=\"median\")\n",
    "from sklearn.experimental import enable_iterative_imputer\n",
    "\n",
    "imputer2 = sklearn.impute.IterativeImputer(max_iter=10, random_state=42)\n",
    "imputer3 = sklearn.impute.KNNImputer(n_neighbors=2, weights=\"uniform\")\n",
    "\n",
    "scaler1 = sklearn.preprocessing.StandardScaler()\n",
    "scaler2 = sklearn.preprocessing.MinMaxScaler(feature_range=(-1, 1))\n",
    "\n",
    "preprocess_pipe = sklearn.pipeline.make_pipeline(imputer1, scaler2)"
   ]
  },
  {
   "cell_type": "code",
   "execution_count": 7,
   "id": "ae1029fe-712a-4bdc-8d4f-4ed48518eca9",
   "metadata": {},
   "outputs": [],
   "source": [
    "_ = preprocess_pipe.fit(train_x)\n",
    "train_x = preprocess_pipe.transform(train_x)\n",
    "test_x = preprocess_pipe.transform(test_x)"
   ]
  },
  {
   "cell_type": "code",
   "execution_count": 8,
   "id": "40545ba7-6b84-4ce0-ac26-71bcfd3a7c6b",
   "metadata": {},
   "outputs": [],
   "source": [
    "from imblearn.over_sampling import ADASYN, SMOTE\n",
    "\n",
    "smote = ADASYN()\n",
    "# train_x,train_y = smote.fit_resample(train_x,train_y)"
   ]
  },
  {
   "cell_type": "code",
   "execution_count": 9,
   "id": "9e0f88c5-5317-4a1f-9ad0-39d301f38d66",
   "metadata": {},
   "outputs": [],
   "source": [
    "def evaluate(model, x, y, threshold=0.5):\n",
    "    pred_y = model.predict(x).reshape(-1, 1)\n",
    "    pred_y = (\n",
    "        sklearn.preprocessing.Binarizer(threshold=threshold).transform(pred_y).flatten()\n",
    "    )\n",
    "    print(\"precision score:\", sklearn.metrics.precision_score(y, pred_y))\n",
    "    print(\"recall score:\", sklearn.metrics.recall_score(y, pred_y))\n",
    "    print(\"f1 score:\", sklearn.metrics.f1_score(y, pred_y))"
   ]
  },
  {
   "cell_type": "code",
   "execution_count": 10,
   "id": "409eb25c-2501-4d02-879a-0dea9092dcf2",
   "metadata": {},
   "outputs": [
    {
     "name": "stdout",
     "output_type": "stream",
     "text": [
      "precision score: 0.8181818181818182\n",
      "recall score: 0.4090909090909091\n",
      "f1 score: 0.5454545454545455\n"
     ]
    }
   ],
   "source": [
    "model1 = sklearn.linear_model.LogisticRegression()\n",
    "model1.fit(train_x, train_y)\n",
    "evaluate(model1, test_x, test_y)"
   ]
  },
  {
   "cell_type": "code",
   "execution_count": 11,
   "id": "3c2b3ba5-eab7-4767-bc23-c1f3ba1e0443",
   "metadata": {},
   "outputs": [
    {
     "name": "stdout",
     "output_type": "stream",
     "text": [
      "precision score: 1.0\n",
      "recall score: 0.36363636363636365\n",
      "f1 score: 0.5333333333333333\n"
     ]
    }
   ],
   "source": [
    "model2 = sklearn.linear_model.RidgeClassifier(alpha=0.0005)\n",
    "model2.fit(train_x, train_y)\n",
    "evaluate(model2, test_x, test_y, threshold=0.7)"
   ]
  },
  {
   "cell_type": "code",
   "execution_count": 12,
   "id": "f77e11ea-0520-4a3f-a575-be2051c82f96",
   "metadata": {},
   "outputs": [
    {
     "name": "stdout",
     "output_type": "stream",
     "text": [
      "precision score: 1.0\n",
      "recall score: 0.3181818181818182\n",
      "f1 score: 0.4827586206896552\n"
     ]
    }
   ],
   "source": [
    "model3 = sklearn.linear_model.Lasso(alpha=0.0005)\n",
    "model3.fit(train_x, train_y)\n",
    "evaluate(model3, test_x, test_y)"
   ]
  },
  {
   "cell_type": "code",
   "execution_count": 13,
   "id": "ea36e741-42d7-4cad-8a20-d553e1fc02e5",
   "metadata": {},
   "outputs": [
    {
     "name": "stdout",
     "output_type": "stream",
     "text": [
      "precision score: 0.0625\n",
      "recall score: 0.09090909090909091\n",
      "f1 score: 0.07407407407407407\n"
     ]
    }
   ],
   "source": [
    "model4 = sklearn.linear_model.RANSACRegressor()\n",
    "model4.fit(train_x, train_y)\n",
    "evaluate(model4, test_x, test_y, threshold=0.5)"
   ]
  },
  {
   "cell_type": "code",
   "execution_count": 14,
   "id": "2829e896-a2b8-494f-a162-3dd7bcdcdb11",
   "metadata": {},
   "outputs": [
    {
     "name": "stdout",
     "output_type": "stream",
     "text": [
      "precision score: 0.6883116883116883\n",
      "recall score: 0.38686131386861317\n",
      "f1 score: 0.4953271028037384\n",
      "precision score: 0.42105263157894735\n",
      "recall score: 0.36363636363636365\n",
      "f1 score: 0.3902439024390244\n"
     ]
    }
   ],
   "source": [
    "model5 = sklearn.linear_model.SGDClassifier()\n",
    "model5.fit(train_x, train_y)\n",
    "evaluate(model5, train_x, train_y)\n",
    "evaluate(model5, test_x, test_y)"
   ]
  },
  {
   "cell_type": "code",
   "execution_count": 15,
   "id": "83336119-df09-4f8a-9b39-318d6a68de9a",
   "metadata": {},
   "outputs": [
    {
     "name": "stdout",
     "output_type": "stream",
     "text": [
      "precision score: 0.75\n",
      "recall score: 0.3284671532846715\n",
      "f1 score: 0.4568527918781726\n",
      "precision score: 0.6666666666666666\n",
      "recall score: 0.36363636363636365\n",
      "f1 score: 0.4705882352941177\n"
     ]
    }
   ],
   "source": [
    "model6 = sklearn.neural_network.MLPClassifier(\n",
    "    [28], max_iter=280, activation=\"logistic\", alpha=0.0002\n",
    ")\n",
    "model6.fit(train_x, train_y)\n",
    "evaluate(model6, train_x, train_y)\n",
    "evaluate(model6, test_x, test_y)"
   ]
  },
  {
   "cell_type": "code",
   "execution_count": 16,
   "id": "f3acebf5-bdef-427f-8166-f653fca9f0f5",
   "metadata": {},
   "outputs": [
    {
     "name": "stdout",
     "output_type": "stream",
     "text": [
      "precision score: 0.8390804597701149\n",
      "recall score: 0.5328467153284672\n",
      "f1 score: 0.6517857142857143\n",
      "precision score: 0.5714285714285714\n",
      "recall score: 0.36363636363636365\n",
      "f1 score: 0.4444444444444444\n"
     ]
    }
   ],
   "source": [
    "model6 = sklearn.neural_network.MLPClassifier(\n",
    "    [28], max_iter=200, activation=\"relu\", alpha=0.0009\n",
    ")\n",
    "model6.fit(train_x, train_y)\n",
    "evaluate(model6, train_x, train_y)\n",
    "evaluate(model6, test_x, test_y)"
   ]
  },
  {
   "cell_type": "code",
   "execution_count": 17,
   "id": "26149497-5482-4dfb-90d6-aef39733a5b1",
   "metadata": {},
   "outputs": [
    {
     "name": "stdout",
     "output_type": "stream",
     "text": [
      "precision score: 1.0\n",
      "recall score: 0.13138686131386862\n",
      "f1 score: 0.23225806451612904\n",
      "precision score: 1.0\n",
      "recall score: 0.13636363636363635\n",
      "f1 score: 0.24000000000000002\n"
     ]
    }
   ],
   "source": [
    "model6 = sklearn.svm.SVC(kernel=\"rbf\")\n",
    "model6.fit(train_x, train_y)\n",
    "evaluate(model6, train_x, train_y)\n",
    "evaluate(model6, test_x, test_y)"
   ]
  },
  {
   "cell_type": "code",
   "execution_count": 18,
   "id": "bb4a1ce4-120c-432a-9740-c881131805c9",
   "metadata": {},
   "outputs": [
    {
     "name": "stdout",
     "output_type": "stream",
     "text": [
      "precision score: 0.8181818181818182\n",
      "recall score: 0.26277372262773724\n",
      "f1 score: 0.39779005524861877\n",
      "precision score: 0.7777777777777778\n",
      "recall score: 0.3181818181818182\n",
      "f1 score: 0.45161290322580644\n"
     ]
    }
   ],
   "source": [
    "model6 = sklearn.svm.SVC(kernel=\"linear\")\n",
    "model6.fit(train_x, train_y)\n",
    "evaluate(model6, train_x, train_y)\n",
    "evaluate(model6, test_x, test_y)"
   ]
  },
  {
   "cell_type": "code",
   "execution_count": 19,
   "id": "fc506520-0bab-4752-b3f6-61d86313ae24",
   "metadata": {},
   "outputs": [
    {
     "name": "stdout",
     "output_type": "stream",
     "text": [
      "precision score: 0.9821428571428571\n",
      "recall score: 0.40145985401459855\n",
      "f1 score: 0.5699481865284974\n",
      "precision score: 0.7142857142857143\n",
      "recall score: 0.22727272727272727\n",
      "f1 score: 0.3448275862068965\n"
     ]
    }
   ],
   "source": [
    "model6 = sklearn.svm.SVC(kernel=\"poly\")\n",
    "model6.fit(train_x, train_y)\n",
    "evaluate(model6, train_x, train_y)\n",
    "evaluate(model6, test_x, test_y)"
   ]
  },
  {
   "cell_type": "code",
   "execution_count": 20,
   "id": "b4f2fea2-cd6a-4108-a22d-38595cb99e64",
   "metadata": {},
   "outputs": [
    {
     "name": "stdout",
     "output_type": "stream",
     "text": [
      "precision score: 0.4074074074074074\n",
      "recall score: 0.08029197080291971\n",
      "f1 score: 0.13414634146341461\n",
      "precision score: 0.42857142857142855\n",
      "recall score: 0.13636363636363635\n",
      "f1 score: 0.20689655172413793\n"
     ]
    }
   ],
   "source": [
    "model6 = sklearn.svm.SVC(kernel=\"sigmoid\")\n",
    "model6.fit(train_x, train_y)\n",
    "evaluate(model6, train_x, train_y)\n",
    "evaluate(model6, test_x, test_y)"
   ]
  },
  {
   "cell_type": "code",
   "execution_count": 21,
   "id": "88bef297-4e36-4fa7-bc0d-15b764e86493",
   "metadata": {},
   "outputs": [
    {
     "name": "stdout",
     "output_type": "stream",
     "text": [
      "precision score: 1.0\n",
      "recall score: 0.9708029197080292\n",
      "f1 score: 0.9851851851851852\n",
      "precision score: 0.24242424242424243\n",
      "recall score: 0.36363636363636365\n",
      "f1 score: 0.2909090909090909\n"
     ]
    }
   ],
   "source": [
    "model6 = sklearn.tree.DecisionTreeClassifier(\n",
    "    criterion=\"gini\", max_depth=16, min_samples_split=2\n",
    ")\n",
    "model6.fit(train_x, train_y)\n",
    "evaluate(model6, train_x, train_y)\n",
    "evaluate(model6, test_x, test_y)"
   ]
  },
  {
   "cell_type": "code",
   "execution_count": 22,
   "id": "b5250d7f-98cb-4279-8eb0-8ffab8bae091",
   "metadata": {},
   "outputs": [
    {
     "name": "stdout",
     "output_type": "stream",
     "text": [
      "precision score: 0.9540229885057471\n",
      "recall score: 0.6058394160583942\n",
      "f1 score: 0.7410714285714286\n",
      "precision score: 0.36\n",
      "recall score: 0.4090909090909091\n",
      "f1 score: 0.3829787234042554\n"
     ]
    }
   ],
   "source": [
    "model6 = sklearn.tree.DecisionTreeClassifier(\n",
    "    criterion=\"entropy\", max_depth=6, min_samples_split=3\n",
    ")\n",
    "model6.fit(train_x, train_y)\n",
    "evaluate(model6, train_x, train_y)\n",
    "evaluate(model6, test_x, test_y)"
   ]
  },
  {
   "cell_type": "code",
   "execution_count": 23,
   "id": "2189bb4e-0dce-4cb5-ba4a-4eca240917bb",
   "metadata": {},
   "outputs": [
    {
     "name": "stdout",
     "output_type": "stream",
     "text": [
      "precision score: 1.0\n",
      "recall score: 1.0\n",
      "f1 score: 1.0\n",
      "precision score: 0.4090909090909091\n",
      "recall score: 0.4090909090909091\n",
      "f1 score: 0.4090909090909091\n"
     ]
    }
   ],
   "source": [
    "model6 = sklearn.neighbors.KNeighborsClassifier(n_neighbors=1, weights=\"uniform\")\n",
    "model6.fit(train_x, train_y)\n",
    "evaluate(model6, train_x, train_y)\n",
    "evaluate(model6, test_x, test_y)"
   ]
  },
  {
   "cell_type": "code",
   "execution_count": 24,
   "id": "c026a246-f4dc-4e4c-aa76-e9bb48529812",
   "metadata": {},
   "outputs": [
    {
     "name": "stdout",
     "output_type": "stream",
     "text": [
      "precision score: 0.7551020408163265\n",
      "recall score: 0.27007299270072993\n",
      "f1 score: 0.3978494623655914\n",
      "precision score: 0.75\n",
      "recall score: 0.2727272727272727\n",
      "f1 score: 0.39999999999999997\n"
     ]
    }
   ],
   "source": [
    "emodel = sklearn.ensemble.AdaBoostClassifier(sklearn.linear_model.LogisticRegression())\n",
    "emodel.fit(train_x, train_y)\n",
    "evaluate(emodel, train_x, train_y)\n",
    "evaluate(emodel, test_x, test_y)"
   ]
  },
  {
   "cell_type": "code",
   "execution_count": 25,
   "id": "99c7a62f-92a1-4623-ae7b-0f8ea0362ae8",
   "metadata": {},
   "outputs": [
    {
     "name": "stdout",
     "output_type": "stream",
     "text": [
      "precision score: 0.8235294117647058\n",
      "recall score: 0.30656934306569344\n",
      "f1 score: 0.44680851063829785\n",
      "precision score: 0.875\n",
      "recall score: 0.3181818181818182\n",
      "f1 score: 0.4666666666666667\n"
     ]
    }
   ],
   "source": [
    "emodel = sklearn.ensemble.BaggingClassifier(sklearn.linear_model.LogisticRegression())\n",
    "emodel.fit(train_x, train_y)\n",
    "evaluate(emodel, train_x, train_y)\n",
    "evaluate(emodel, test_x, test_y)"
   ]
  },
  {
   "cell_type": "code",
   "execution_count": 26,
   "id": "6758eab3-0160-4c4b-8cb7-b0f851002f77",
   "metadata": {},
   "outputs": [
    {
     "name": "stdout",
     "output_type": "stream",
     "text": [
      "precision score: 0.7727272727272727\n",
      "recall score: 0.24817518248175183\n",
      "f1 score: 0.37569060773480667\n",
      "precision score: 1.0\n",
      "recall score: 0.3181818181818182\n",
      "f1 score: 0.4827586206896552\n"
     ]
    }
   ],
   "source": [
    "emodel = sklearn.ensemble.AdaBoostClassifier(\n",
    "    sklearn.linear_model.RidgeClassifier(alpha=0.0002), algorithm=\"SAMME\"\n",
    ")\n",
    "emodel.fit(train_x, train_y)\n",
    "evaluate(emodel, train_x, train_y)\n",
    "evaluate(emodel, test_x, test_y)"
   ]
  },
  {
   "cell_type": "code",
   "execution_count": 27,
   "id": "94d50dad-f393-4b18-925e-d98599da9616",
   "metadata": {},
   "outputs": [
    {
     "name": "stdout",
     "output_type": "stream",
     "text": [
      "precision score: 0.8\n",
      "recall score: 0.23357664233576642\n",
      "f1 score: 0.36158192090395486\n",
      "precision score: 1.0\n",
      "recall score: 0.3181818181818182\n",
      "f1 score: 0.4827586206896552\n"
     ]
    }
   ],
   "source": [
    "emodel = sklearn.ensemble.BaggingClassifier(\n",
    "    sklearn.linear_model.RidgeClassifier(alpha=0.0002)\n",
    ")\n",
    "emodel.fit(train_x, train_y)\n",
    "evaluate(emodel, train_x, train_y)\n",
    "evaluate(emodel, test_x, test_y)"
   ]
  },
  {
   "cell_type": "code",
   "execution_count": 28,
   "id": "36d53530-d004-4489-933a-e8a0b4ff6985",
   "metadata": {},
   "outputs": [
    {
     "name": "stdout",
     "output_type": "stream",
     "text": [
      "precision score: 0.7192982456140351\n",
      "recall score: 0.29927007299270075\n",
      "f1 score: 0.4226804123711341\n",
      "precision score: 0.7272727272727273\n",
      "recall score: 0.36363636363636365\n",
      "f1 score: 0.4848484848484849\n"
     ]
    }
   ],
   "source": [
    "emodel = sklearn.ensemble.BaggingClassifier(\n",
    "    sklearn.neural_network.MLPClassifier(\n",
    "        [28], max_iter=240, activation=\"logistic\", alpha=0.0002\n",
    "    )\n",
    ")\n",
    "emodel.fit(train_x, train_y)\n",
    "evaluate(emodel, train_x, train_y)\n",
    "evaluate(emodel, test_x, test_y)"
   ]
  },
  {
   "cell_type": "code",
   "execution_count": 29,
   "id": "d6465b15-7640-4d41-b98e-764969b274b4",
   "metadata": {},
   "outputs": [
    {
     "name": "stdout",
     "output_type": "stream",
     "text": [
      "precision score: 1.0\n",
      "recall score: 1.0\n",
      "f1 score: 1.0\n",
      "precision score: 1.0\n",
      "recall score: 0.22727272727272727\n",
      "f1 score: 0.37037037037037035\n"
     ]
    }
   ],
   "source": [
    "emodel = sklearn.ensemble.RandomForestClassifier(n_estimators=40, max_depth=18)\n",
    "emodel.fit(train_x, train_y)\n",
    "evaluate(emodel, train_x, train_y)\n",
    "evaluate(emodel, test_x, test_y)"
   ]
  },
  {
   "cell_type": "code",
   "execution_count": null,
   "id": "a1aba357-22a8-4ff1-a029-662f81c481e2",
   "metadata": {},
   "outputs": [],
   "source": []
  }
 ],
 "metadata": {
  "kernelspec": {
   "display_name": "Python 3 (ipykernel)",
   "language": "python",
   "name": "python3"
  },
  "language_info": {
   "codemirror_mode": {
    "name": "ipython",
    "version": 3
   },
   "file_extension": ".py",
   "mimetype": "text/x-python",
   "name": "python",
   "nbconvert_exporter": "python",
   "pygments_lexer": "ipython3",
   "version": "3.9.6"
  }
 },
 "nbformat": 4,
 "nbformat_minor": 5
}
