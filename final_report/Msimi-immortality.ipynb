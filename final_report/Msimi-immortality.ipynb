{
 "cells": [
  {
   "cell_type": "code",
   "execution_count": 1,
   "id": "9e9dd29c-d6d8-4d8e-9e04-d61a5344043d",
   "metadata": {},
   "outputs": [],
   "source": [
    "import warnings\n",
    "warnings.filterwarnings(\"ignore\")\n",
    "import numpy as np\n",
    "rs=np.random.RandomState(42)\n",
    "import pandas as pd\n",
    "import sklearn\n",
    "from sklearn.model_selection import train_test_split\n",
    "from sklearn.compose import make_column_transformer,make_column_selector\n",
    "from sklearn.preprocessing import StandardScaler, MinMaxScaler\n",
    "from sklearn.experimental import enable_iterative_imputer\n",
    "from sklearn.impute import SimpleImputer, IterativeImputer,KNNImputer\n",
    "from sklearn.pipeline import make_pipeline\n",
    "from sklearn.linear_model import LogisticRegression, RidgeClassifier, LogisticRegressionCV, RidgeClassifierCV\n",
    "from sklearn.neighbors import KNeighborsClassifier, RadiusNeighborsClassifier\n",
    "from sklearn.neural_network import MLPClassifier\n",
    "from sklearn.svm import SVC\n",
    "from sklearn.tree import DecisionTreeClassifier\n",
    "from sklearn.ensemble import AdaBoostClassifier, BaggingClassifier, RandomForestClassifier, HistGradientBoostingClassifier\n",
    "from sklearn.ensemble import StackingClassifier\n",
    "from sklearn.metrics import classification_report, f1_score, recall_score, precision_score"
   ]
  },
  {
   "cell_type": "markdown",
   "id": "5a07ea57-47ed-4ed5-af9d-08ac797a2c9b",
   "metadata": {},
   "source": [
    "<span style=\"color:orange\">\n",
    "    This is a base line model. Following works will be optimizations or researches of only one aspect of its settings.<br>\n",
    "</span>"
   ]
  },
  {
   "cell_type": "code",
   "execution_count": 2,
   "id": "e7822bba-a729-436d-834d-c8de38ddcaa5",
   "metadata": {},
   "outputs": [],
   "source": [
    "df = pd.read_csv(\"data01.csv\")"
   ]
  },
  {
   "cell_type": "code",
   "execution_count": 3,
   "id": "be459601-8f8d-4b44-a0f4-3f70bab14fad",
   "metadata": {},
   "outputs": [
    {
     "name": "stdout",
     "output_type": "stream",
     "text": [
      "<class 'pandas.core.frame.DataFrame'>\n",
      "RangeIndex: 1177 entries, 0 to 1176\n",
      "Columns: 51 entries, group to EF\n",
      "dtypes: float64(37), int64(14)\n",
      "memory usage: 469.1 KB\n"
     ]
    }
   ],
   "source": [
    "df.info(verbose=False)"
   ]
  },
  {
   "cell_type": "code",
   "execution_count": 4,
   "id": "269301db-de5e-4509-8269-35465121be88",
   "metadata": {},
   "outputs": [
    {
     "name": "stdout",
     "output_type": "stream",
     "text": [
      "<class 'pandas.core.frame.DataFrame'>\n",
      "Index: 1176 entries, 0 to 1176\n",
      "Data columns (total 50 columns):\n",
      " #   Column                    Non-Null Count  Dtype  \n",
      "---  ------                    --------------  -----  \n",
      " 0   group                     1176 non-null   int64  \n",
      " 1   outcome                   1176 non-null   int32  \n",
      " 2   age                       1176 non-null   int64  \n",
      " 3   gendera                   1176 non-null   int64  \n",
      " 4   BMI                       962 non-null    float64\n",
      " 5   hypertensive              1176 non-null   int64  \n",
      " 6   atrialfibrillation        1176 non-null   int64  \n",
      " 7   CHD with no MI            1176 non-null   int64  \n",
      " 8   diabetes                  1176 non-null   int64  \n",
      " 9   deficiencyanemias         1176 non-null   int64  \n",
      " 10  depression                1176 non-null   int64  \n",
      " 11  Hyperlipemia              1176 non-null   int64  \n",
      " 12  Renal failure             1176 non-null   int64  \n",
      " 13  COPD                      1176 non-null   int64  \n",
      " 14  heart rate                1164 non-null   float64\n",
      " 15  Systolic blood pressure   1161 non-null   float64\n",
      " 16  Diastolic blood pressure  1161 non-null   float64\n",
      " 17  Respiratory rate          1164 non-null   float64\n",
      " 18  temperature               1158 non-null   float64\n",
      " 19  SP O2                     1164 non-null   float64\n",
      " 20  Urine output              1141 non-null   float64\n",
      " 21  hematocrit                1176 non-null   float64\n",
      " 22  RBC                       1176 non-null   float64\n",
      " 23  MCH                       1176 non-null   float64\n",
      " 24  MCHC                      1176 non-null   float64\n",
      " 25  MCV                       1176 non-null   float64\n",
      " 26  RDW                       1176 non-null   float64\n",
      " 27  Leucocyte                 1176 non-null   float64\n",
      " 28  Platelets                 1176 non-null   float64\n",
      " 29  Neutrophils               1032 non-null   float64\n",
      " 30  Basophils                 917 non-null    float64\n",
      " 31  Lymphocyte                1031 non-null   float64\n",
      " 32  PT                        1156 non-null   float64\n",
      " 33  INR                       1156 non-null   float64\n",
      " 34  NT-proBNP                 1176 non-null   float64\n",
      " 35  Creatine kinase           1011 non-null   float64\n",
      " 36  Creatinine                1176 non-null   float64\n",
      " 37  Urea nitrogen             1176 non-null   float64\n",
      " 38  glucose                   1159 non-null   float64\n",
      " 39  Blood potassium           1176 non-null   float64\n",
      " 40  Blood sodium              1176 non-null   float64\n",
      " 41  Blood calcium             1175 non-null   float64\n",
      " 42  Chloride                  1176 non-null   float64\n",
      " 43  Anion gap                 1176 non-null   float64\n",
      " 44  Magnesium ion             1176 non-null   float64\n",
      " 45  PH                        885 non-null    float64\n",
      " 46  Bicarbonate               1176 non-null   float64\n",
      " 47  Lactic acid               948 non-null    float64\n",
      " 48  PCO2                      883 non-null    float64\n",
      " 49  EF                        1176 non-null   float64\n",
      "dtypes: float64(37), int32(1), int64(12)\n",
      "memory usage: 464.0 KB\n"
     ]
    }
   ],
   "source": [
    "df = df.drop(columns=\"ID\")\n",
    "df = df.dropna(subset=[\"outcome\"])\n",
    "df[\"outcome\"] = df[\"outcome\"].astype(\"int\")\n",
    "df[\"EF\"] = df[\"EF\"].astype(\"float\")\n",
    "df.info(verbose=True)"
   ]
  },
  {
   "cell_type": "code",
   "execution_count": 5,
   "id": "1ddce5d7-625f-4519-a9a3-fb3e62c1c4b3",
   "metadata": {},
   "outputs": [
    {
     "name": "stdout",
     "output_type": "stream",
     "text": [
      "mortality ratio in train set: 0.127\n",
      "mortality ratio in test set: 0.169\n"
     ]
    }
   ],
   "source": [
    "y = df[\"outcome\"]\n",
    "x = df.drop(columns=\"outcome\")\n",
    "x_train,x_test,y_train,y_test = train_test_split(x,y,test_size=0.2,random_state=rs,shuffle=True)\n",
    "print(f\"mortality ratio in train set: {y_train.sum()/len(y_train):.3f}\")\n",
    "print(f\"mortality ratio in test set: {y_test.sum()/len(y_test):.3f}\")"
   ]
  },
  {
   "cell_type": "code",
   "execution_count": 6,
   "id": "367fee14-170d-4ce7-a591-6e48c847d966",
   "metadata": {},
   "outputs": [
    {
     "name": "stdout",
     "output_type": "stream",
     "text": [
      "(119, 50) (821, 50)\n"
     ]
    }
   ],
   "source": [
    "# resample the train dataset by simply oversampling the mortality data \n",
    "# TODO: use more complex approaches to augment the data e.g. LinearInterpolation, SMOTE, CTGAN \n",
    "yx_train = pd.concat([y_train,x_train],axis=1)\n",
    "yx_train_pos = yx_train[yx_train[\"outcome\"]==1]\n",
    "yx_train_neg = yx_train[yx_train[\"outcome\"]==0]\n",
    "print(yx_train_pos.shape,yx_train_neg.shape)"
   ]
  },
  {
   "cell_type": "code",
   "execution_count": 7,
   "id": "37a01ecc-6f61-493e-83ae-c1f9928afcc1",
   "metadata": {},
   "outputs": [],
   "source": [
    "rs_y_train_set=[]\n",
    "rs_x_train_set=[]\n",
    "for n in range(1,10):\n",
    "    oversampled_yx_train_pos = pd.concat([yx_train_pos for i in range(n)])\n",
    "    resampled_yx_train = pd.concat([oversampled_yx_train_pos,yx_train_neg])\n",
    "    rs_y_train = resampled_yx_train[\"outcome\"]\n",
    "    rs_x_train = resampled_yx_train.drop(columns=\"outcome\")\n",
    "    rs_y_train_set.append(rs_y_train)\n",
    "    rs_x_train_set.append(pd.DataFrame(rs_x_train))"
   ]
  },
  {
   "cell_type": "code",
   "execution_count": 8,
   "id": "887c61d4-766d-4941-8216-b50e2e037ff1",
   "metadata": {},
   "outputs": [],
   "source": [
    "# TODO: try more preprocessing strategies and combinations\n",
    "imputer1 = SimpleImputer(strategy='mean')\n",
    "imputer2 = SimpleImputer(strategy='median')\n",
    "imputer3 = SimpleImputer(strategy='most_frequent')\n",
    "imputer4 = IterativeImputer(max_iter=10, random_state=rs)\n",
    "imputer5 = KNNImputer(n_neighbors=2, weights=\"uniform\")\n",
    "\n",
    "scaler1 = StandardScaler()\n",
    "scaler2 = MinMaxScaler(feature_range=(-1,1))\n",
    "\n",
    "preprocess_pipe = make_column_transformer((make_pipeline(scaler1,imputer4), make_column_selector(dtype_include=np.float64)),\n",
    "                                          ((make_pipeline(scaler2,imputer3), make_column_selector(dtype_include=np.int64))))"
   ]
  },
  {
   "cell_type": "code",
   "execution_count": 9,
   "id": "2a6732f6-8160-48c6-b4d7-fe2c37232782",
   "metadata": {},
   "outputs": [],
   "source": [
    "x_train_sample = rs_x_train_set[0] # ???\n",
    "preprocess_pipe.fit(x_train_sample)\n",
    "rs_x_train_set = [preprocess_pipe.transform(x_sample) for x_sample in rs_x_train_set]\n",
    "x_test = preprocess_pipe.transform(pd.DataFrame(x_test))"
   ]
  },
  {
   "cell_type": "code",
   "execution_count": 10,
   "id": "0b10408d-1613-4d63-9c19-4ac9e2f37b1f",
   "metadata": {},
   "outputs": [],
   "source": [
    "def evaluate(model,x=x_test,y=y_test):\n",
    "    y_pred = model.predict(x)\n",
    "    print(classification_report(y,y_pred))\n",
    "\n",
    "def evaluate_label_ratio(model,x=x_test,y=y_test):\n",
    "    f1=[]\n",
    "    rec=[]\n",
    "    pre=[]\n",
    "    for y_train,x_train in zip(rs_y_train_set,rs_x_train_set):\n",
    "        model.fit(x_train,y_train)\n",
    "        y_pred = model.predict(x)\n",
    "        f1.append(f\"{f1_score(y,y_pred):.3f}\")\n",
    "        rec.append(f\"{recall_score(y,y_pred):.3f}\")\n",
    "        pre.append(f\"{precision_score(y,y_pred):.3f}\")\n",
    "    print(\"f1\",f1,max(f1,key=float))\n",
    "    print(\"rec\",rec)\n",
    "    print(\"pre\",pre)\n",
    "\n",
    "def statistic_evaluate(model0,kwargs,os_ration=3,rs=rs,n=42):\n",
    "    outcome=[]\n",
    "    for _ in range(n):\n",
    "        model = model0(random_state=rs,**kwargs)\n",
    "        model.fit(rs_x_train_set[os_ration],rs_y_train_set[os_ration])\n",
    "        y_pred = model.predict(x_test)\n",
    "        outcome.append(f1_score(y_test,y_pred))\n",
    "    return np.mean(outcome),np.std(outcome,ddof=1)"
   ]
  },
  {
   "cell_type": "code",
   "execution_count": 11,
   "id": "db00d941-7e7c-4842-a341-7a2f1908de05",
   "metadata": {},
   "outputs": [],
   "source": [
    "baseline_model = LogisticRegression\n",
    "baseline_kwargs={'penalty':\"l2\",'solver':\"saga\"}"
   ]
  },
  {
   "cell_type": "code",
   "execution_count": 12,
   "id": "d3df3b0f-9a71-4896-aec8-1f67f4143d9a",
   "metadata": {},
   "outputs": [],
   "source": [
    "m,s=statistic_evaluate(baseline_model,baseline_kwargs,os_ration=3,rs=rs,n=42)"
   ]
  },
  {
   "cell_type": "code",
   "execution_count": 13,
   "id": "94440bfb-bdcc-4354-a769-d840c09a5909",
   "metadata": {},
   "outputs": [
    {
     "name": "stdout",
     "output_type": "stream",
     "text": [
      "              precision    recall  f1-score   support\n",
      "\n",
      "           0       0.91      0.84      0.88       196\n",
      "           1       0.44      0.60      0.51        40\n",
      "\n",
      "    accuracy                           0.80       236\n",
      "   macro avg       0.67      0.72      0.69       236\n",
      "weighted avg       0.83      0.80      0.81       236\n",
      "\n"
     ]
    }
   ],
   "source": [
    "bmodel=LogisticRegression(penalty=\"l2\",class_weight=None,solver=\"saga\",random_state=rs)\n",
    "bmodel.fit(rs_x_train_set[3],rs_y_train_set[3])\n",
    "evaluate(bmodel)"
   ]
  },
  {
   "cell_type": "code",
   "execution_count": 14,
   "id": "ff775e22-6abe-4804-992f-c841aca86eb3",
   "metadata": {},
   "outputs": [],
   "source": [
    "base_pred = bmodel.predict(x_test)"
   ]
  },
  {
   "cell_type": "code",
   "execution_count": 15,
   "id": "9c196d82-13ad-4d4e-96bb-6bf7ee9cad5e",
   "metadata": {},
   "outputs": [
    {
     "name": "stdout",
     "output_type": "stream",
     "text": [
      "              precision    recall  f1-score   support\n",
      "\n",
      "           0       0.90      0.92      0.91       196\n",
      "           1       0.56      0.50      0.53        40\n",
      "\n",
      "    accuracy                           0.85       236\n",
      "   macro avg       0.73      0.71      0.72       236\n",
      "weighted avg       0.84      0.85      0.84       236\n",
      "\n",
      "              precision    recall  f1-score   support\n",
      "\n",
      "           0       0.88      0.97      0.92       181\n",
      "           1       0.86      0.56      0.68        55\n",
      "\n",
      "    accuracy                           0.88       236\n",
      "   macro avg       0.87      0.77      0.80       236\n",
      "weighted avg       0.88      0.88      0.87       236\n",
      "\n"
     ]
    }
   ],
   "source": [
    "model = MLPClassifier([32,16],activation=\"tanh\",solver=\"adam\",alpha=0.0003,max_iter=200,random_state=42)\n",
    "model.fit(rs_x_train_set[3],rs_y_train_set[3])\n",
    "evaluate(model,x=x_test,y=y_test)\n",
    "evaluate(model,x=x_test,y=base_pred)"
   ]
  },
  {
   "cell_type": "code",
   "execution_count": 16,
   "id": "3167fba7-7ffa-4794-bba5-d86ef6c7d752",
   "metadata": {},
   "outputs": [
    {
     "name": "stdout",
     "output_type": "stream",
     "text": [
      "              precision    recall  f1-score   support\n",
      "\n",
      "           0       0.91      0.84      0.87       196\n",
      "           1       0.43      0.57      0.49        40\n",
      "\n",
      "    accuracy                           0.80       236\n",
      "   macro avg       0.67      0.71      0.68       236\n",
      "weighted avg       0.83      0.80      0.81       236\n",
      "\n",
      "              precision    recall  f1-score   support\n",
      "\n",
      "           0       0.99      0.99      0.99       181\n",
      "           1       0.98      0.96      0.97        55\n",
      "\n",
      "    accuracy                           0.99       236\n",
      "   macro avg       0.99      0.98      0.98       236\n",
      "weighted avg       0.99      0.99      0.99       236\n",
      "\n"
     ]
    }
   ],
   "source": [
    "model = LogisticRegression(penalty=\"elasticnet\",l1_ratio=0.8,solver=\"saga\",random_state=rs)\n",
    "model.fit(rs_x_train_set[3],rs_y_train_set[3])\n",
    "evaluate(model,x=x_test,y=y_test)\n",
    "evaluate(model,x=x_test,y=base_pred)"
   ]
  },
  {
   "cell_type": "code",
   "execution_count": null,
   "id": "4c3a0f36-fa5e-429a-8578-b2f3d88ef718",
   "metadata": {},
   "outputs": [],
   "source": []
  }
 ],
 "metadata": {
  "kernelspec": {
   "display_name": "Python 3 (ipykernel)",
   "language": "python",
   "name": "python3"
  },
  "language_info": {
   "codemirror_mode": {
    "name": "ipython",
    "version": 3
   },
   "file_extension": ".py",
   "mimetype": "text/x-python",
   "name": "python",
   "nbconvert_exporter": "python",
   "pygments_lexer": "ipython3",
   "version": "3.9.6"
  }
 },
 "nbformat": 4,
 "nbformat_minor": 5
}
