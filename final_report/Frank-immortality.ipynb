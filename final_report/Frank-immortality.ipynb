{
 "cells": [
  {
   "cell_type": "code",
   "execution_count": 1,
   "id": "9e9dd29c-d6d8-4d8e-9e04-d61a5344043d",
   "metadata": {},
   "outputs": [],
   "source": [
    "import warnings\n",
    "warnings.filterwarnings(\"ignore\")\n",
    "import numpy as np\n",
    "rs=np.random.RandomState(42)\n",
    "import pandas as pd\n",
    "import sklearn\n",
    "from sklearn.model_selection import train_test_split\n",
    "from sklearn.compose import make_column_transformer,make_column_selector\n",
    "from sklearn.preprocessing import StandardScaler, MinMaxScaler\n",
    "from sklearn.experimental import enable_iterative_imputer\n",
    "from sklearn.impute import SimpleImputer, IterativeImputer,KNNImputer\n",
    "from sklearn.pipeline import make_pipeline\n",
    "from sklearn.linear_model import LogisticRegression, RidgeClassifier, LogisticRegressionCV, RidgeClassifierCV\n",
    "from sklearn.neighbors import KNeighborsClassifier, RadiusNeighborsClassifier\n",
    "from sklearn.neural_network import MLPClassifier\n",
    "from sklearn.svm import SVC\n",
    "from sklearn.tree import DecisionTreeClassifier\n",
    "from sklearn.ensemble import AdaBoostClassifier, BaggingClassifier, RandomForestClassifier, HistGradientBoostingClassifier\n",
    "from sklearn.ensemble import StackingClassifier\n",
    "from sklearn.metrics import classification_report, f1_score, recall_score, precision_score"
   ]
  },
  {
   "cell_type": "code",
   "execution_count": 2,
   "id": "e7822bba-a729-436d-834d-c8de38ddcaa5",
   "metadata": {},
   "outputs": [],
   "source": [
    "df = pd.read_csv(\"data01.csv\")"
   ]
  },
  {
   "cell_type": "code",
   "execution_count": 3,
   "id": "be459601-8f8d-4b44-a0f4-3f70bab14fad",
   "metadata": {},
   "outputs": [
    {
     "name": "stdout",
     "output_type": "stream",
     "text": [
      "<class 'pandas.core.frame.DataFrame'>\n",
      "RangeIndex: 1177 entries, 0 to 1176\n",
      "Columns: 51 entries, group to EF\n",
      "dtypes: float64(37), int64(14)\n",
      "memory usage: 469.1 KB\n"
     ]
    }
   ],
   "source": [
    "df.info(verbose=False)"
   ]
  },
  {
   "cell_type": "code",
   "execution_count": 4,
   "id": "269301db-de5e-4509-8269-35465121be88",
   "metadata": {},
   "outputs": [
    {
     "name": "stdout",
     "output_type": "stream",
     "text": [
      "<class 'pandas.core.frame.DataFrame'>\n",
      "Index: 1176 entries, 0 to 1176\n",
      "Data columns (total 50 columns):\n",
      " #   Column                    Non-Null Count  Dtype  \n",
      "---  ------                    --------------  -----  \n",
      " 0   group                     1176 non-null   int64  \n",
      " 1   outcome                   1176 non-null   int32  \n",
      " 2   age                       1176 non-null   int64  \n",
      " 3   gendera                   1176 non-null   int64  \n",
      " 4   BMI                       962 non-null    float64\n",
      " 5   hypertensive              1176 non-null   int64  \n",
      " 6   atrialfibrillation        1176 non-null   int64  \n",
      " 7   CHD with no MI            1176 non-null   int64  \n",
      " 8   diabetes                  1176 non-null   int64  \n",
      " 9   deficiencyanemias         1176 non-null   int64  \n",
      " 10  depression                1176 non-null   int64  \n",
      " 11  Hyperlipemia              1176 non-null   int64  \n",
      " 12  Renal failure             1176 non-null   int64  \n",
      " 13  COPD                      1176 non-null   int64  \n",
      " 14  heart rate                1164 non-null   float64\n",
      " 15  Systolic blood pressure   1161 non-null   float64\n",
      " 16  Diastolic blood pressure  1161 non-null   float64\n",
      " 17  Respiratory rate          1164 non-null   float64\n",
      " 18  temperature               1158 non-null   float64\n",
      " 19  SP O2                     1164 non-null   float64\n",
      " 20  Urine output              1141 non-null   float64\n",
      " 21  hematocrit                1176 non-null   float64\n",
      " 22  RBC                       1176 non-null   float64\n",
      " 23  MCH                       1176 non-null   float64\n",
      " 24  MCHC                      1176 non-null   float64\n",
      " 25  MCV                       1176 non-null   float64\n",
      " 26  RDW                       1176 non-null   float64\n",
      " 27  Leucocyte                 1176 non-null   float64\n",
      " 28  Platelets                 1176 non-null   float64\n",
      " 29  Neutrophils               1032 non-null   float64\n",
      " 30  Basophils                 917 non-null    float64\n",
      " 31  Lymphocyte                1031 non-null   float64\n",
      " 32  PT                        1156 non-null   float64\n",
      " 33  INR                       1156 non-null   float64\n",
      " 34  NT-proBNP                 1176 non-null   float64\n",
      " 35  Creatine kinase           1011 non-null   float64\n",
      " 36  Creatinine                1176 non-null   float64\n",
      " 37  Urea nitrogen             1176 non-null   float64\n",
      " 38  glucose                   1159 non-null   float64\n",
      " 39  Blood potassium           1176 non-null   float64\n",
      " 40  Blood sodium              1176 non-null   float64\n",
      " 41  Blood calcium             1175 non-null   float64\n",
      " 42  Chloride                  1176 non-null   float64\n",
      " 43  Anion gap                 1176 non-null   float64\n",
      " 44  Magnesium ion             1176 non-null   float64\n",
      " 45  PH                        885 non-null    float64\n",
      " 46  Bicarbonate               1176 non-null   float64\n",
      " 47  Lactic acid               948 non-null    float64\n",
      " 48  PCO2                      883 non-null    float64\n",
      " 49  EF                        1176 non-null   float64\n",
      "dtypes: float64(37), int32(1), int64(12)\n",
      "memory usage: 464.0 KB\n"
     ]
    }
   ],
   "source": [
    "df = df.drop(columns=\"ID\")\n",
    "df = df.dropna(subset=[\"outcome\"])\n",
    "df[\"outcome\"] = df[\"outcome\"].astype(\"int\")\n",
    "df[\"EF\"] = df[\"EF\"].astype(\"float\")\n",
    "df.info(verbose=True)"
   ]
  },
  {
   "cell_type": "code",
   "execution_count": 5,
   "id": "1ddce5d7-625f-4519-a9a3-fb3e62c1c4b3",
   "metadata": {},
   "outputs": [
    {
     "name": "stdout",
     "output_type": "stream",
     "text": [
      "mortality ratio in train set: 0.127\n",
      "mortality ratio in test set: 0.169\n"
     ]
    }
   ],
   "source": [
    "y = df[\"outcome\"]\n",
    "x = df.drop(columns=\"outcome\")\n",
    "x_train,x_test,y_train,y_test = train_test_split(x,y,test_size=0.2,random_state=rs,shuffle=True)\n",
    "print(f\"mortality ratio in train set: {y_train.sum()/len(y_train):.3f}\")\n",
    "print(f\"mortality ratio in test set: {y_test.sum()/len(y_test):.3f}\")"
   ]
  },
  {
   "cell_type": "code",
   "execution_count": 6,
   "id": "367fee14-170d-4ce7-a591-6e48c847d966",
   "metadata": {},
   "outputs": [
    {
     "name": "stdout",
     "output_type": "stream",
     "text": [
      "(119, 50) (821, 50)\n"
     ]
    }
   ],
   "source": [
    "# resample the train dataset by simply oversampling the mortality data \n",
    "# TODO: use more complex approaches to augment the data e.g. LinearInterpolation, SMOTE, CTGAN \n",
    "yx_train = pd.concat([y_train,x_train],axis=1)\n",
    "yx_train_pos = yx_train[yx_train[\"outcome\"]==1]\n",
    "yx_train_neg = yx_train[yx_train[\"outcome\"]==0]\n",
    "print(yx_train_pos.shape,yx_train_neg.shape)"
   ]
  },
  {
   "cell_type": "code",
   "execution_count": 7,
   "id": "37a01ecc-6f61-493e-83ae-c1f9928afcc1",
   "metadata": {},
   "outputs": [],
   "source": [
    "rs_y_train_set=[]\n",
    "rs_x_train_set=[]\n",
    "for n in range(1,10):\n",
    "    oversampled_yx_train_pos = pd.concat([yx_train_pos for i in range(n)])\n",
    "    resampled_yx_train = pd.concat([oversampled_yx_train_pos,yx_train_neg])\n",
    "    rs_y_train = resampled_yx_train[\"outcome\"]\n",
    "    rs_x_train = resampled_yx_train.drop(columns=\"outcome\")\n",
    "    rs_y_train_set.append(rs_y_train)\n",
    "    rs_x_train_set.append(pd.DataFrame(rs_x_train))"
   ]
  },
  {
   "cell_type": "code",
   "execution_count": 8,
   "id": "887c61d4-766d-4941-8216-b50e2e037ff1",
   "metadata": {},
   "outputs": [],
   "source": [
    "# TODO: try more preprocessing strategies and combinations\n",
    "imputer1 = SimpleImputer(strategy='mean')\n",
    "imputer2 = SimpleImputer(strategy='median')\n",
    "imputer3 = SimpleImputer(strategy='most_frequent')\n",
    "imputer4 = IterativeImputer(max_iter=10, random_state=rs)\n",
    "imputer5 = KNNImputer(n_neighbors=2, weights=\"uniform\")\n",
    "\n",
    "scaler1 = StandardScaler()\n",
    "scaler2 = MinMaxScaler(feature_range=(-1,1))\n",
    "\n",
    "preprocess_pipe = make_column_transformer((make_pipeline(scaler1,imputer4), make_column_selector(dtype_include=np.float64)),\n",
    "                                          (make_pipeline(scaler2,imputer3), make_column_selector(dtype_include=np.int64)))"
   ]
  },
  {
   "cell_type": "code",
   "execution_count": 9,
   "id": "2a6732f6-8160-48c6-b4d7-fe2c37232782",
   "metadata": {},
   "outputs": [],
   "source": [
    "x_train_sample = rs_x_train_set[0] # ???\n",
    "preprocess_pipe.fit(x_train_sample)\n",
    "rs_x_train_set = [preprocess_pipe.transform(x_sample) for x_sample in rs_x_train_set]\n",
    "x_test = preprocess_pipe.transform(pd.DataFrame(x_test))"
   ]
  },
  {
   "cell_type": "code",
   "execution_count": 10,
   "id": "0b10408d-1613-4d63-9c19-4ac9e2f37b1f",
   "metadata": {},
   "outputs": [],
   "source": [
    "def evaluate(model,x=x_test,y=y_test):\n",
    "    y_pred = model.predict(x)\n",
    "    print(classification_report(y,y_pred))\n",
    "\n",
    "def evaluate_label_ratio(model,x=x_test,y=y_test):\n",
    "    f1=[]\n",
    "    rec=[]\n",
    "    pre=[]\n",
    "    for y_train,x_train in zip(rs_y_train_set,rs_x_train_set):\n",
    "        model.fit(x_train,y_train)\n",
    "        y_pred = model.predict(x)\n",
    "        f1.append(f\"{f1_score(y,y_pred):.3f}\")\n",
    "        rec.append(f\"{recall_score(y,y_pred):.3f}\")\n",
    "        pre.append(f\"{precision_score(y,y_pred):.3f}\")\n",
    "    print(\"f1\",f1,max(f1,key=float))\n",
    "    print(\"rec\",rec)\n",
    "    print(\"pre\",pre)\n",
    "\n",
    "def statistic_evaluate(model0,kwargs,os_ration=3,rs=rs,n=42):\n",
    "    outcome=[]\n",
    "    for _ in range(n):\n",
    "        model = model0(random_state=rs,**kwargs)\n",
    "        model.fit(rs_x_train_set[os_ration],rs_y_train_set[os_ration])\n",
    "        y_pred = model.predict(x_test)\n",
    "        outcome.append(f1_score(y_test,y_pred))\n",
    "    return np.mean(outcome),np.std(outcome,ddof=1)"
   ]
  },
  {
   "cell_type": "code",
   "execution_count": 11,
   "id": "db00d941-7e7c-4842-a341-7a2f1908de05",
   "metadata": {},
   "outputs": [],
   "source": [
    "baseline_model = LogisticRegression\n",
    "baseline_kwargs={'penalty':\"l2\",'solver':\"saga\"}"
   ]
  },
  {
   "cell_type": "code",
   "execution_count": 12,
   "id": "94440bfb-bdcc-4354-a769-d840c09a5909",
   "metadata": {},
   "outputs": [
    {
     "name": "stdout",
     "output_type": "stream",
     "text": [
      "              precision    recall  f1-score   support\n",
      "\n",
      "           0       0.91      0.84      0.88       196\n",
      "           1       0.44      0.60      0.51        40\n",
      "\n",
      "    accuracy                           0.80       236\n",
      "   macro avg       0.67      0.72      0.69       236\n",
      "weighted avg       0.83      0.80      0.81       236\n",
      "\n"
     ]
    }
   ],
   "source": [
    "model = LogisticRegression(penalty=\"l2\",class_weight=None,solver=\"saga\",random_state=rs)\n",
    "#model = MLPClassifier([28,12],activation=\"tanh\",solver=\"adam\",alpha=0.0001,max_iter=200,random_state=42)\n",
    "model.fit(rs_x_train_set[3],rs_y_train_set[3])\n",
    "evaluate(model)"
   ]
  },
  {
   "cell_type": "code",
   "execution_count": 13,
   "id": "b436eda6-f817-4812-adcc-2fbaed636bc7",
   "metadata": {},
   "outputs": [],
   "source": [
    "matrix=model.coef_[0]\n",
    "matrix/=np.linalg.norm(matrix)"
   ]
  },
  {
   "cell_type": "code",
   "execution_count": 14,
   "id": "dfe4a47b-5f88-48be-8222-bfe70234777b",
   "metadata": {},
   "outputs": [],
   "source": [
    "dic=[(name,val) for name,val in zip(x.columns,matrix)]\n",
    "dic.sort(key=lambda t:t[1],reverse=True)\n",
    "n_pos = sum(x[1]>=0 for x in dic)\n",
    "vals=list(x[1] for x in dic)\n",
    "names=list(x[0] for x in dic)"
   ]
  },
  {
   "cell_type": "markdown",
   "id": "3191e74f-1eba-4007-ba3c-3eaa05641d6c",
   "metadata": {},
   "source": [
    "<span style=\"color:#00BFFF\">\n",
    "    #00BFFF<br>\n",
    "    <span style=\"color:#FF69B4\">\n",
    "    #FF69B4<br>\n",
    "    <span style=\"color:#40D0D0\">\n",
    "    #40D0D0<br>\n",
    "    <span style=\"color:#ADD02F\">\n",
    "    #ADD02F<br>\n",
    "    <span style=\"color:#FFA500\">\n",
    "    #FFA500<br>\n",
    "    <span style=\"color:#CD5C5C\">\n",
    "    #CD5C5C<br>\n",
    "    <span style=\"color:#FFA07A\">\n",
    "    #FFA07A<br>\n",
    "</span>"
   ]
  },
  {
   "cell_type": "code",
   "execution_count": 20,
   "id": "9885d5bc-4893-4d1b-9400-3726376458ab",
   "metadata": {},
   "outputs": [
    {
     "ename": "ValueError",
     "evalue": "\n    Invalid value of type 'builtins.dict' received for the 'yaxis' property of bar\n        Received value: {'ticklabelposition': 'outside left'}\n\n    The 'yaxis' property is an identifier of a particular\n    subplot, of type 'y', that may be specified as the string 'y'\n    optionally followed by an integer >= 1\n    (e.g. 'y', 'y1', 'y2', 'y3', etc.)\n        ",
     "output_type": "error",
     "traceback": [
      "\u001b[1;31m---------------------------------------------------------------------------\u001b[0m",
      "\u001b[1;31mValueError\u001b[0m                                Traceback (most recent call last)",
      "Input \u001b[1;32mIn [20]\u001b[0m, in \u001b[0;36m<cell line: 7>\u001b[1;34m()\u001b[0m\n\u001b[0;32m      1\u001b[0m \u001b[38;5;28;01mimport\u001b[39;00m \u001b[38;5;21;01mplotly\u001b[39;00m\u001b[38;5;21;01m.\u001b[39;00m\u001b[38;5;21;01mgraph_objects\u001b[39;00m \u001b[38;5;28;01mas\u001b[39;00m \u001b[38;5;21;01mgo\u001b[39;00m  \n\u001b[0;32m      3\u001b[0m \u001b[38;5;66;03m# 假设你有两组数据 data1 和 data2  \u001b[39;00m\n\u001b[0;32m      4\u001b[0m \n\u001b[0;32m      5\u001b[0m   \n\u001b[0;32m      6\u001b[0m \u001b[38;5;66;03m# 创建第一组数据的条形图  \u001b[39;00m\n\u001b[1;32m----> 7\u001b[0m bar1 \u001b[38;5;241m=\u001b[39m \u001b[43mgo\u001b[49m\u001b[38;5;241;43m.\u001b[39;49m\u001b[43mBar\u001b[49m\u001b[43m(\u001b[49m\u001b[43mx\u001b[49m\u001b[38;5;241;43m=\u001b[39;49m\u001b[43mvals\u001b[49m\u001b[43m[\u001b[49m\u001b[43m:\u001b[49m\u001b[38;5;241;43m12\u001b[39;49m\u001b[43m]\u001b[49m\u001b[43m,\u001b[49m\u001b[43m \u001b[49m\u001b[43my\u001b[49m\u001b[38;5;241;43m=\u001b[39;49m\u001b[43mnames\u001b[49m\u001b[43m[\u001b[49m\u001b[43m:\u001b[49m\u001b[38;5;241;43m12\u001b[39;49m\u001b[43m]\u001b[49m\u001b[43m,\u001b[49m\u001b[43mmarker_color\u001b[49m\u001b[38;5;241;43m=\u001b[39;49m\u001b[38;5;124;43m\"\u001b[39;49m\u001b[38;5;124;43m#CD5C5C\u001b[39;49m\u001b[38;5;124;43m\"\u001b[39;49m\u001b[43m,\u001b[49m\u001b[43morientation\u001b[49m\u001b[38;5;241;43m=\u001b[39;49m\u001b[38;5;124;43m'\u001b[39;49m\u001b[38;5;124;43mh\u001b[39;49m\u001b[38;5;124;43m'\u001b[39;49m\u001b[43m,\u001b[49m\u001b[43myaxis\u001b[49m\u001b[38;5;241;43m=\u001b[39;49m\u001b[43m{\u001b[49m\u001b[38;5;124;43m'\u001b[39;49m\u001b[38;5;124;43mticklabelposition\u001b[39;49m\u001b[38;5;124;43m'\u001b[39;49m\u001b[43m:\u001b[49m\u001b[38;5;124;43m\"\u001b[39;49m\u001b[38;5;124;43moutside left\u001b[39;49m\u001b[38;5;124;43m\"\u001b[39;49m\u001b[43m}\u001b[49m\u001b[43m)\u001b[49m  \n\u001b[0;32m      9\u001b[0m \u001b[38;5;66;03m# 创建第二组数据的条形图  \u001b[39;00m\n\u001b[0;32m     10\u001b[0m bar2 \u001b[38;5;241m=\u001b[39m go\u001b[38;5;241m.\u001b[39mBar(x\u001b[38;5;241m=\u001b[39mvals[\u001b[38;5;241m-\u001b[39m\u001b[38;5;241m12\u001b[39m:], y\u001b[38;5;241m=\u001b[39mnames[\u001b[38;5;241m-\u001b[39m\u001b[38;5;241m12\u001b[39m:],marker_color\u001b[38;5;241m=\u001b[39m\u001b[38;5;124m\"\u001b[39m\u001b[38;5;124m#00AFDF\u001b[39m\u001b[38;5;124m\"\u001b[39m,orientation\u001b[38;5;241m=\u001b[39m\u001b[38;5;124m'\u001b[39m\u001b[38;5;124mh\u001b[39m\u001b[38;5;124m'\u001b[39m,yaxis\u001b[38;5;241m=\u001b[39m{\u001b[38;5;124m'\u001b[39m\u001b[38;5;124mticklabelposition\u001b[39m\u001b[38;5;124m'\u001b[39m:\u001b[38;5;124m\"\u001b[39m\u001b[38;5;124moutside right\u001b[39m\u001b[38;5;124m\"\u001b[39m})  \n",
      "File \u001b[1;32m~\\AppData\\Local\\Programs\\Python\\Python39\\lib\\site-packages\\plotly\\graph_objs\\_bar.py:3251\u001b[0m, in \u001b[0;36mBar.__init__\u001b[1;34m(self, arg, alignmentgroup, base, basesrc, cliponaxis, constraintext, customdata, customdatasrc, dx, dy, error_x, error_y, hoverinfo, hoverinfosrc, hoverlabel, hovertemplate, hovertemplatesrc, hovertext, hovertextsrc, ids, idssrc, insidetextanchor, insidetextfont, legendgroup, legendgrouptitle, legendrank, legendwidth, marker, meta, metasrc, name, offset, offsetgroup, offsetsrc, opacity, orientation, outsidetextfont, selected, selectedpoints, showlegend, stream, text, textangle, textfont, textposition, textpositionsrc, textsrc, texttemplate, texttemplatesrc, uid, uirevision, unselected, visible, width, widthsrc, x, x0, xaxis, xcalendar, xhoverformat, xperiod, xperiod0, xperiodalignment, xsrc, y, y0, yaxis, ycalendar, yhoverformat, yperiod, yperiod0, yperiodalignment, ysrc, **kwargs)\u001b[0m\n\u001b[0;32m   3249\u001b[0m _v \u001b[38;5;241m=\u001b[39m yaxis \u001b[38;5;28;01mif\u001b[39;00m yaxis \u001b[38;5;129;01mis\u001b[39;00m \u001b[38;5;129;01mnot\u001b[39;00m \u001b[38;5;28;01mNone\u001b[39;00m \u001b[38;5;28;01melse\u001b[39;00m _v\n\u001b[0;32m   3250\u001b[0m \u001b[38;5;28;01mif\u001b[39;00m _v \u001b[38;5;129;01mis\u001b[39;00m \u001b[38;5;129;01mnot\u001b[39;00m \u001b[38;5;28;01mNone\u001b[39;00m:\n\u001b[1;32m-> 3251\u001b[0m     \u001b[38;5;28mself\u001b[39m[\u001b[38;5;124m\"\u001b[39m\u001b[38;5;124myaxis\u001b[39m\u001b[38;5;124m\"\u001b[39m] \u001b[38;5;241m=\u001b[39m _v\n\u001b[0;32m   3252\u001b[0m _v \u001b[38;5;241m=\u001b[39m arg\u001b[38;5;241m.\u001b[39mpop(\u001b[38;5;124m\"\u001b[39m\u001b[38;5;124mycalendar\u001b[39m\u001b[38;5;124m\"\u001b[39m, \u001b[38;5;28;01mNone\u001b[39;00m)\n\u001b[0;32m   3253\u001b[0m _v \u001b[38;5;241m=\u001b[39m ycalendar \u001b[38;5;28;01mif\u001b[39;00m ycalendar \u001b[38;5;129;01mis\u001b[39;00m \u001b[38;5;129;01mnot\u001b[39;00m \u001b[38;5;28;01mNone\u001b[39;00m \u001b[38;5;28;01melse\u001b[39;00m _v\n",
      "File \u001b[1;32m~\\AppData\\Local\\Programs\\Python\\Python39\\lib\\site-packages\\plotly\\basedatatypes.py:4850\u001b[0m, in \u001b[0;36mBasePlotlyType.__setitem__\u001b[1;34m(self, prop, value)\u001b[0m\n\u001b[0;32m   4846\u001b[0m         \u001b[38;5;28mself\u001b[39m\u001b[38;5;241m.\u001b[39m_set_array_prop(prop, value)\n\u001b[0;32m   4848\u001b[0m     \u001b[38;5;66;03m# ### Handle simple property ###\u001b[39;00m\n\u001b[0;32m   4849\u001b[0m     \u001b[38;5;28;01melse\u001b[39;00m:\n\u001b[1;32m-> 4850\u001b[0m         \u001b[38;5;28;43mself\u001b[39;49m\u001b[38;5;241;43m.\u001b[39;49m\u001b[43m_set_prop\u001b[49m\u001b[43m(\u001b[49m\u001b[43mprop\u001b[49m\u001b[43m,\u001b[49m\u001b[43m \u001b[49m\u001b[43mvalue\u001b[49m\u001b[43m)\u001b[49m\n\u001b[0;32m   4851\u001b[0m \u001b[38;5;28;01melse\u001b[39;00m:\n\u001b[0;32m   4852\u001b[0m     \u001b[38;5;66;03m# Make sure properties dict is initialized\u001b[39;00m\n\u001b[0;32m   4853\u001b[0m     \u001b[38;5;28mself\u001b[39m\u001b[38;5;241m.\u001b[39m_init_props()\n",
      "File \u001b[1;32m~\\AppData\\Local\\Programs\\Python\\Python39\\lib\\site-packages\\plotly\\basedatatypes.py:5194\u001b[0m, in \u001b[0;36mBasePlotlyType._set_prop\u001b[1;34m(self, prop, val)\u001b[0m\n\u001b[0;32m   5192\u001b[0m         \u001b[38;5;28;01mreturn\u001b[39;00m\n\u001b[0;32m   5193\u001b[0m     \u001b[38;5;28;01melse\u001b[39;00m:\n\u001b[1;32m-> 5194\u001b[0m         \u001b[38;5;28;01mraise\u001b[39;00m err\n\u001b[0;32m   5196\u001b[0m \u001b[38;5;66;03m# val is None\u001b[39;00m\n\u001b[0;32m   5197\u001b[0m \u001b[38;5;66;03m# -----------\u001b[39;00m\n\u001b[0;32m   5198\u001b[0m \u001b[38;5;28;01mif\u001b[39;00m val \u001b[38;5;129;01mis\u001b[39;00m \u001b[38;5;28;01mNone\u001b[39;00m:\n\u001b[0;32m   5199\u001b[0m     \u001b[38;5;66;03m# Check if we should send null update\u001b[39;00m\n",
      "File \u001b[1;32m~\\AppData\\Local\\Programs\\Python\\Python39\\lib\\site-packages\\plotly\\basedatatypes.py:5189\u001b[0m, in \u001b[0;36mBasePlotlyType._set_prop\u001b[1;34m(self, prop, val)\u001b[0m\n\u001b[0;32m   5186\u001b[0m validator \u001b[38;5;241m=\u001b[39m \u001b[38;5;28mself\u001b[39m\u001b[38;5;241m.\u001b[39m_get_validator(prop)\n\u001b[0;32m   5188\u001b[0m \u001b[38;5;28;01mtry\u001b[39;00m:\n\u001b[1;32m-> 5189\u001b[0m     val \u001b[38;5;241m=\u001b[39m \u001b[43mvalidator\u001b[49m\u001b[38;5;241;43m.\u001b[39;49m\u001b[43mvalidate_coerce\u001b[49m\u001b[43m(\u001b[49m\u001b[43mval\u001b[49m\u001b[43m)\u001b[49m\n\u001b[0;32m   5190\u001b[0m \u001b[38;5;28;01mexcept\u001b[39;00m \u001b[38;5;167;01mValueError\u001b[39;00m \u001b[38;5;28;01mas\u001b[39;00m err:\n\u001b[0;32m   5191\u001b[0m     \u001b[38;5;28;01mif\u001b[39;00m \u001b[38;5;28mself\u001b[39m\u001b[38;5;241m.\u001b[39m_skip_invalid:\n",
      "File \u001b[1;32m~\\AppData\\Local\\Programs\\Python\\Python39\\lib\\site-packages\\_plotly_utils\\basevalidators.py:1768\u001b[0m, in \u001b[0;36mSubplotidValidator.validate_coerce\u001b[1;34m(self, v)\u001b[0m\n\u001b[0;32m   1766\u001b[0m     \u001b[38;5;28;01mpass\u001b[39;00m\n\u001b[0;32m   1767\u001b[0m \u001b[38;5;28;01melif\u001b[39;00m \u001b[38;5;129;01mnot\u001b[39;00m \u001b[38;5;28misinstance\u001b[39m(v, \u001b[38;5;28mstr\u001b[39m):\n\u001b[1;32m-> 1768\u001b[0m     \u001b[38;5;28;43mself\u001b[39;49m\u001b[38;5;241;43m.\u001b[39;49m\u001b[43mraise_invalid_val\u001b[49m\u001b[43m(\u001b[49m\u001b[43mv\u001b[49m\u001b[43m)\u001b[49m\n\u001b[0;32m   1769\u001b[0m \u001b[38;5;28;01melse\u001b[39;00m:\n\u001b[0;32m   1770\u001b[0m     \u001b[38;5;66;03m# match = re.fullmatch(self.regex, v)\u001b[39;00m\n\u001b[0;32m   1771\u001b[0m     match \u001b[38;5;241m=\u001b[39m fullmatch(\u001b[38;5;28mself\u001b[39m\u001b[38;5;241m.\u001b[39mregex, v)\n",
      "File \u001b[1;32m~\\AppData\\Local\\Programs\\Python\\Python39\\lib\\site-packages\\_plotly_utils\\basevalidators.py:288\u001b[0m, in \u001b[0;36mBaseValidator.raise_invalid_val\u001b[1;34m(self, v, inds)\u001b[0m\n\u001b[0;32m    285\u001b[0m             \u001b[38;5;28;01mfor\u001b[39;00m i \u001b[38;5;129;01min\u001b[39;00m inds:\n\u001b[0;32m    286\u001b[0m                 name \u001b[38;5;241m+\u001b[39m\u001b[38;5;241m=\u001b[39m \u001b[38;5;124m\"\u001b[39m\u001b[38;5;124m[\u001b[39m\u001b[38;5;124m\"\u001b[39m \u001b[38;5;241m+\u001b[39m \u001b[38;5;28mstr\u001b[39m(i) \u001b[38;5;241m+\u001b[39m \u001b[38;5;124m\"\u001b[39m\u001b[38;5;124m]\u001b[39m\u001b[38;5;124m\"\u001b[39m\n\u001b[1;32m--> 288\u001b[0m         \u001b[38;5;28;01mraise\u001b[39;00m \u001b[38;5;167;01mValueError\u001b[39;00m(\n\u001b[0;32m    289\u001b[0m             \u001b[38;5;124;03m\"\"\"\u001b[39;00m\n\u001b[0;32m    290\u001b[0m \u001b[38;5;124;03m    Invalid value of type {typ} received for the '{name}' property of {pname}\u001b[39;00m\n\u001b[0;32m    291\u001b[0m \u001b[38;5;124;03m        Received value: {v}\u001b[39;00m\n\u001b[0;32m    292\u001b[0m \n\u001b[0;32m    293\u001b[0m \u001b[38;5;124;03m{valid_clr_desc}\"\"\"\u001b[39;00m\u001b[38;5;241m.\u001b[39mformat(\n\u001b[0;32m    294\u001b[0m                 name\u001b[38;5;241m=\u001b[39mname,\n\u001b[0;32m    295\u001b[0m                 pname\u001b[38;5;241m=\u001b[39m\u001b[38;5;28mself\u001b[39m\u001b[38;5;241m.\u001b[39mparent_name,\n\u001b[0;32m    296\u001b[0m                 typ\u001b[38;5;241m=\u001b[39mtype_str(v),\n\u001b[0;32m    297\u001b[0m                 v\u001b[38;5;241m=\u001b[39m\u001b[38;5;28mrepr\u001b[39m(v),\n\u001b[0;32m    298\u001b[0m                 valid_clr_desc\u001b[38;5;241m=\u001b[39m\u001b[38;5;28mself\u001b[39m\u001b[38;5;241m.\u001b[39mdescription(),\n\u001b[0;32m    299\u001b[0m             )\n\u001b[0;32m    300\u001b[0m         )\n",
      "\u001b[1;31mValueError\u001b[0m: \n    Invalid value of type 'builtins.dict' received for the 'yaxis' property of bar\n        Received value: {'ticklabelposition': 'outside left'}\n\n    The 'yaxis' property is an identifier of a particular\n    subplot, of type 'y', that may be specified as the string 'y'\n    optionally followed by an integer >= 1\n    (e.g. 'y', 'y1', 'y2', 'y3', etc.)\n        "
     ]
    }
   ],
   "source": [
    "import plotly.graph_objects as go  \n",
    "  \n",
    "# 假设你有两组数据 data1 和 data2  \n",
    "\n",
    "  \n",
    "# 创建第一组数据的条形图  \n",
    "bar1 = go.Bar(x=vals[:12], y=names[:12],marker_color=\"#CD5C5C\",orientation='h')  \n",
    "  \n",
    "# 创建第二组数据的条形图  \n",
    "bar2 = go.Bar(x=vals[-12:], y=names[-12:],marker_color=\"#00AFDF\",orientation='h')  \n",
    "  \n",
    "# 将两个条形图合并到一个图表中  \n",
    "fig = go.Figure(data=[bar1,bar2])  \n",
    "  \n",
    "# 设置图表的标题和轴标签  \n",
    "fig.update_layout(title='Bar Chart', xaxis_title='Mortality Dependence<br>Predicted by LR', yaxis_title='Feature',\n",
    "                 width=1000)  \n",
    "#fig.update_xaxes(range=[-0.05, 1.05]) \n",
    "#fig.layout.xaxis.tickvals =bins_data1.tolist()\n",
    "#fig.write_html(\"vis/frankLR.html\", auto_open=False)\n",
    "\n",
    "from IPython.display import HTML \n",
    "# 显示图表  \n",
    "HTML(fig.to_html())\n"
   ]
  },
  {
   "cell_type": "code",
   "execution_count": 18,
   "id": "1ae74033-62f6-4302-a3cd-c50f9725938b",
   "metadata": {},
   "outputs": [
    {
     "data": {
      "text/plain": [
       "NoneType"
      ]
     },
     "execution_count": 18,
     "metadata": {},
     "output_type": "execute_result"
    }
   ],
   "source": []
  },
  {
   "cell_type": "code",
   "execution_count": null,
   "id": "e3230776-3b13-4a32-a127-c82092a61a18",
   "metadata": {},
   "outputs": [],
   "source": [
    "model = MLPClassifier([32,16],activation=\"tanh\",solver=\"adam\",alpha=0.0003,max_iter=200,random_state=42)\n",
    "model.fit(rs_x_train_set[3],rs_y_train_set[3])\n",
    "evaluate(model)\n",
    "\n",
    "matrix=model.coefs_[0]\n",
    "print(matrix.shape)\n",
    "for m in model.coefs_[1:]:\n",
    "    print(m.shape)\n",
    "    matrix = matrix @ m\n",
    "matrix = matrix.T[0]\n",
    "matrix/=np.linalg.norm(matrix)\n",
    "\n",
    "dic=[(name,val) for name,val in zip(x.columns,matrix)]\n",
    "dic.sort(key=lambda t:t[1],reverse=True)\n",
    "n_pos = sum(x[1]>=0 for x in dic)\n",
    "vals=list(x[1] for x in dic)\n",
    "names=list(x[0] for x in dic)"
   ]
  },
  {
   "cell_type": "code",
   "execution_count": null,
   "id": "828d61e8-8816-4711-9344-bb358c749719",
   "metadata": {},
   "outputs": [],
   "source": [
    "bar1 = go.Bar(x=vals[:12], y=names[:12],marker_color=\"#CD5C5C\",orientation='h')  \n",
    "  \n",
    "# 创建第二组数据的条形图  \n",
    "bar2 = go.Bar(x=vals[-12:], y=names[-12:],marker_color=\"#00AFDF\",orientation='h')  \n",
    "  \n",
    "# 将两个条形图合并到一个图表中  \n",
    "fig = go.Figure(data=[bar1,bar2])  \n",
    "  \n",
    "# 设置图表的标题和轴标签  \n",
    "fig.update_layout(title='Bar Chart', xaxis_title='Mortality Dependence<br>Predicted by MLP', yaxis_title='Feature',\n",
    "                 width=1000)  \n",
    "#fig.update_xaxes(range=[-0.05, 1.05]) \n",
    "#fig.layout.xaxis.tickvals =bins_data1.tolist()\n",
    "#fig.write_html(\"vis/frankMLP.html\", auto_open=False)\n",
    "\n",
    "from IPython.display import HTML \n",
    "# 显示图表  \n",
    "HTML(fig.to_html())"
   ]
  },
  {
   "cell_type": "code",
   "execution_count": null,
   "id": "e5f02126-1c4a-444b-9dad-dd32fced6699",
   "metadata": {},
   "outputs": [],
   "source": []
  }
 ],
 "metadata": {
  "kernelspec": {
   "display_name": "Python 3 (ipykernel)",
   "language": "python",
   "name": "python3"
  },
  "language_info": {
   "codemirror_mode": {
    "name": "ipython",
    "version": 3
   },
   "file_extension": ".py",
   "mimetype": "text/x-python",
   "name": "python",
   "nbconvert_exporter": "python",
   "pygments_lexer": "ipython3",
   "version": "3.9.6"
  }
 },
 "nbformat": 4,
 "nbformat_minor": 5
}
